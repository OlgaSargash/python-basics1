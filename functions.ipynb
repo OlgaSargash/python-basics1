{
 "cells": [
  {
   "cell_type": "code",
   "execution_count": null,
   "id": "42bdec61",
   "metadata": {},
   "outputs": [],
   "source": [
    "directories = {\n",
    " '1': ['2207 876234', '11-2'],\n",
    " '2': ['10006'],\n",
    " '3': []\n",
    "}\n",
    "documents = [\n",
    " {'type': 'passport', 'number': '2207 876234', 'name': 'Василий Гупкин'},\n",
    " {'type': 'invoice', 'number': '11-2', 'name': 'Геннадий Покемонов'},\n",
    " {'type': 'insurance', 'number': '10006', 'name': 'Аристарх Павлов'}\n",
    "]"
   ]
  },
  {
   "cell_type": "markdown",
   "id": "524931e0",
   "metadata": {},
   "source": [
    "_ЗАДАНИЕ 1_"
   ]
  },
  {
   "cell_type": "code",
   "execution_count": 28,
   "id": "b9fe14fe",
   "metadata": {},
   "outputs": [
    {
     "name": "stdout",
     "output_type": "stream",
     "text": [
      "Введите номер документа:2207 876234\n",
      "Василий Гупкин\n"
     ]
    }
   ],
   "source": [
    "documents = [\n",
    " {'type': 'passport', 'number': '2207 876234', 'name': 'Василий Гупкин'},\n",
    " {'type': 'invoice', 'number': '11-2', 'name': 'Геннадий Покемонов'},\n",
    " {'type': 'insurance', 'number': '10006', 'name': 'Аристарх Павлов'}\n",
    "]\n",
    "#Пользователь по команде \"p\" может узнать владельца документа по его номеру\n",
    "def name_():\n",
    "    \"\"\"По команде \"p\" может узнать владельца документа по его номеру. Выход из программы по команде \"q\"\n",
    "    \"\"\"\n",
    "    while True:\n",
    "        user_input = input('Введите команду: ')\n",
    "        if user_input == 'p':\n",
    "            user = input('Введите номер документа: ')\n",
    "            for document in documents:\n",
    "                number = document['number']\n",
    "                name = document['name']\n",
    "                if number == user:\n",
    "                    print(document['name'])\n",
    "                    return\n",
    "            print('Документ не найден')\n",
    "        elif user_input == 'q':\n",
    "            print('До свидания!')\n",
    "            break\n",
    "name_()"
   ]
  },
  {
   "cell_type": "markdown",
   "id": "c4416a8f",
   "metadata": {},
   "source": [
    "*Задание 2*"
   ]
  },
  {
   "cell_type": "code",
   "execution_count": null,
   "id": "5a0773a0",
   "metadata": {},
   "outputs": [],
   "source": [
    "# Пользователь по команде \"s\" может по номеру документа узнать на какой полке он хранится\n",
    "directories = {\n",
    " '1': ['2207 876234', '11-2'],\n",
    " '2': ['10006'],\n",
    " '3': []\n",
    "}\n",
    "def shelf_number():\n",
    "    \"\"\"По команде \"s\" может по номеру документа ищем на какой полке он хранится. Выход из программы по команде \"q\"\n",
    "    \"\"\"\n",
    "    while True:\n",
    "        user_input = input('Введите команду: ')\n",
    "        if user_input == 's':\n",
    "            user = input('Введите номер документа: ')\n",
    "            print('Результат:')\n",
    "            for shelf, identity in directories.items():\n",
    "                for ident in identity:\n",
    "                    if ident == user:\n",
    "                        print(f'Документ хранится на полке: {shelf}')\n",
    "                        return\n",
    "            print('Документ не найден в базе')\n",
    "        elif user_input == 'q':\n",
    "            print('До свидания!')\n",
    "            break\n",
    "shelf_number()"
   ]
  },
  {
   "cell_type": "markdown",
   "id": "4836255c",
   "metadata": {},
   "source": [
    "***ЗАДАНИЕ-3***"
   ]
  },
  {
   "cell_type": "code",
   "execution_count": 3,
   "id": "9eaceb13",
   "metadata": {},
   "outputs": [
    {
     "name": "stdout",
     "output_type": "stream",
     "text": [
      "Результат:\n",
      "\n",
      "№: 2207 876234, тип: passport, владелец: Василий Гупкин, полка хранения: 1\n",
      "№: 11-2, тип: invoice, владелец: Геннадий Покемонов, полка хранения: 1\n",
      "№: 10006, тип: insurance, владелец: Аристарх Павлов, полка хранения: 2\n"
     ]
    }
   ],
   "source": [
    "# Пользователь по команде \"l\" может увидеть полную информацию по всем документам\n",
    "directories = {\n",
    " '1': ['2207 876234', '11-2'],\n",
    " '2': ['10006'],\n",
    " '3': []\n",
    "}\n",
    "documents = [\n",
    " {'type': 'passport', 'number': '2207 876234', 'name': 'Василий Гупкин'},\n",
    " {'type': 'invoice', 'number': '11-2', 'name': 'Геннадий Покемонов'},\n",
    " {'type': 'insurance', 'number': '10006', 'name': 'Аристарх Павлов'}\n",
    "]\n",
    "def print_docs():\n",
    "    \"\"\"По команде \"l\" можно увидеть полную информацию по всем документам. Выход из программы по команде \"q\"\n",
    "    \"\"\"\n",
    "    while True:\n",
    "        user_input = input('Введите команду: ')\n",
    "        if user_input == 'l':\n",
    "            print('Результат:')\n",
    "            print()\n",
    "            for shelf, content in directories.items():\n",
    "                for cont in content:\n",
    "                    for doc in documents:\n",
    "                        if doc['number'] in cont:\n",
    "                            print(f\"№: {doc['number']}, тип: {doc['type']}, владелец: {doc['name']}, полка хранения: {shelf}\")\n",
    "        elif user_input == 'q':\n",
    "            print('До свидания!')\n",
    "            break\n",
    "print_docs()"
   ]
  },
  {
   "cell_type": "markdown",
   "id": "1cd9818c",
   "metadata": {},
   "source": [
    "**ЗАДАНИЕ-_4_**"
   ]
  },
  {
   "cell_type": "code",
   "execution_count": 1,
   "id": "17ebf93b",
   "metadata": {},
   "outputs": [
    {
     "name": "stdout",
     "output_type": "stream",
     "text": [
      "Введите команду: ads\n",
      "Введите номер полки: 3\n",
      "Такая полка существует. Текущий перечень полок: ['1', '2', '3']\n",
      "Введите команду: ads\n",
      "Введите номер полки: 4\n",
      "Полка добавлена. Текущий перечень полок: ['1', '2', '3', '4']\n"
     ]
    }
   ],
   "source": [
    "# Пользователь по команде \"ads\" может добавить новую полку\n",
    "directories = {\n",
    " '1': ['2207 876234', '11-2'],\n",
    " '2': ['10006'],\n",
    " '3': []\n",
    "}\n",
    "documents = [\n",
    " {'type': 'passport', 'number': '2207 876234', 'name': 'Василий Гупкин'},\n",
    " {'type': 'invoice', 'number': '11-2', 'name': 'Геннадий Покемонов'},\n",
    " {'type': 'insurance', 'number': '10006', 'name': 'Аристарх Павлов'}\n",
    "]\n",
    "def dirs_ads():\n",
    "    \"\"\"По команде \"ads\" Можно добавить новую полку. Выход из программы по команде \"q\"\n",
    "    \"\"\"\n",
    "    while True:\n",
    "        user_input = input('Введите команду: ')\n",
    "        if user_input == 'ads':\n",
    "            user = input('Введите номер полки: ')\n",
    "            if user not in directories:\n",
    "                directories[user] = 0\n",
    "                print(f\"Полка добавлена. Текущий перечень полок: {list(directories.keys())}\")\n",
    "                return\n",
    "            print(f\"Такая полка существует. Текущий перечень полок: {list(directories.keys())}\")\n",
    "        elif user_input == 'q':\n",
    "            print('До свидания!')\n",
    "            break\n",
    "dirs_ads()"
   ]
  },
  {
   "cell_type": "markdown",
   "id": "b031ca63",
   "metadata": {},
   "source": [
    "- [ ] ##ЗАДАНИЕ-5"
   ]
  },
  {
   "cell_type": "code",
   "execution_count": 26,
   "id": "9f936f96",
   "metadata": {},
   "outputs": [
    {
     "name": "stdout",
     "output_type": "stream",
     "text": [
      "Введите номер полки: 3\n",
      "Полка удалена. Текущий перечень полок: ['1', '2']\n"
     ]
    }
   ],
   "source": [
    "#  Пользователь по команде \"ds\" может удалить существующую (пустую) полку из данных.\n",
    "directories = {\n",
    " '1': ['2207 876234', '11-2'],\n",
    " '2': ['10006'],\n",
    " '3': []\n",
    "}\n",
    "documents = [\n",
    " {'type': 'passport', 'number': '2207 876234', 'name': 'Василий Гупкин'},\n",
    " {'type': 'invoice', 'number': '11-2', 'name': 'Геннадий Покемонов'},\n",
    " {'type': 'insurance', 'number': '10006', 'name': 'Аристарх Павлов'}\n",
    "]\n",
    "def del_dirs_keys():\n",
    "    \"\"\"По команде \"ds\" можно удалить существующую (пустую) полку из данных. Выход из программы по команде \"q\"\n",
    "    \"\"\"\n",
    "    while True:\n",
    "        user_input = input('Введите команду: ')\n",
    "        if user_input == 'ds':\n",
    "            user = input('Введите номер полки: ')\n",
    "            if user in directories:\n",
    "                for content in directories.values():\n",
    "                    for cont in content:\n",
    "                        if directories[user] and cont:\n",
    "                            print(f\"На полке есть документы, удалите их перед удалением полки. Текущий перечень полок: {list(directories.keys())}\")\n",
    "                            return\n",
    "                        else:\n",
    "                            del(directories[user])\n",
    "                            print(f\"Полка удалена. Текущий перечень полок: {list(directories.keys())}\")\n",
    "                            return\n",
    "            else:\n",
    "                print(f\"Такой полки не существует. Текущий перечень полок: {list(directories.keys())}\")\n",
    "        elif user_input == 'q':\n",
    "            print('До свидания!')\n",
    "            break\n",
    "del_dirs_keys()"
   ]
  },
  {
   "cell_type": "code",
   "execution_count": null,
   "id": "5a3b3ae6",
   "metadata": {},
   "outputs": [],
   "source": []
  },
  {
   "cell_type": "code",
   "execution_count": null,
   "id": "7c838a98",
   "metadata": {},
   "outputs": [],
   "source": [
    "# Пользователь по команде \"ad\" может добавить новый документ в данные\n",
    "Введите команду:\n",
    "ad\n",
    "\n",
    "Введите номер документа:\n",
    "42 (42)\n",
    "Введите тип документа:\n",
    "multipassport (multipassport)\n",
    "Введите владельца документа:\n",
    "R2D2 (R2D2)\n",
    "Введите полку для хранения:\n",
    "3 (4)\n",
    "Результат:\n",
    "\n",
    "Документ добавлен. Текущий список документов:\n",
    "№: 2207 876234, тип: passport, владелец: Василий Гупкин, полка хранения: 1\n",
    "№: 11-2, тип: invoice, владелец: Геннадий Покемонов, полка хранения: 1\n",
    "№: 10006, тип: insurance, владелец: Аристарх Павлов, полка хранения: 2\n",
    "№: 42, тип: multipassport, владелец: R2D2, полка хранения: 3\n",
    "(Такой полки не существует. Добавьте полку командой as. \n",
    "Текущий список документов:\n",
    "№: 2207 876234, тип: passport, владелец: Василий Гупкин, полка хранения: 1\n",
    "№: 11-2, тип: invoice, владелец: Геннадий Покемонов, полка хранения: 1\n",
    "№: 10006, тип: insurance, владелец: Аристарх Павлов, полка хранения: 2)\n",
    "\n"
   ]
  },
  {
   "cell_type": "code",
   "execution_count": null,
   "id": "541b61a5",
   "metadata": {},
   "outputs": [],
   "source": [
    "#Пользователь по команде \"d\" может удалить документ из данных\n",
    "Введите команду:\n",
    "d\n",
    "\n",
    "Введите номер документа:\n",
    "10006 (123456)\n",
    "Результат:\n",
    "\n",
    "Документ удален. \n",
    "Текущий список документов:\n",
    "№: 2207 876234, тип: passport, владелец: Василий Гупкин, полка хранения: 1\n",
    "№: 11-2, тип: invoice, владелец: Геннадий Покемонов, полка хранения: 1\n",
    "(Документ не найден в базе. \n",
    "Текущий список документов:\n",
    "№: 2207 876234, тип: passport, владелец: Василий Гупкин, полка хранения: 1\n",
    "№: 11-2, тип: invoice, владелец: Геннадий Покемонов, полка хранения: 1\n",
    "№: 10006, тип: insurance, владелец: Аристарх Павлов, полка хранения: 2)\n"
   ]
  },
  {
   "cell_type": "code",
   "execution_count": null,
   "id": "3c6cba1f",
   "metadata": {},
   "outputs": [],
   "source": [
    "# Пользователь по команде \"m\" может переместить документ с полки на полку\n",
    "Введите команду:\n",
    "m\n",
    "\n",
    "Введите номер документа:\n",
    "11-2 (11-2 / 42)\n",
    "Введите номер полки:\n",
    "3 (10 / 2)\n",
    "Результат:\n",
    "\n",
    "Документ перемещен. \n",
    "Текущий список документов:\n",
    "№: 2207 876234, тип: passport, владелец: Василий Гупкин, полка хранения: 1\n",
    "№: 11-2, тип: invoice, владелец: Геннадий Покемонов, полка хранения: 3\n",
    "№: 10006, тип: insurance, владелец: Аристарх Павлов, полка хранения: 2\n",
    "(Такой полки не существует. Текущий перечень полок: 1, 2, 3.)\n",
    "(Документ не найден в базе.  \n",
    "Текущий список документов:\n",
    "№: 2207 876234, тип: passport, владелец: Василий Гупкин, полка хранения: 1\n",
    "№: 11-2, тип: invoice, владелец: Геннадий Покемонов, полка хранения: 1\n",
    "№: 10006, тип: insurance, владелец: Аристарх Павлов, полка хранения: 2)"
   ]
  }
 ],
 "metadata": {
  "kernelspec": {
   "display_name": "Python 3",
   "language": "python",
   "name": "python3"
  },
  "language_info": {
   "codemirror_mode": {
    "name": "ipython",
    "version": 3
   },
   "file_extension": ".py",
   "mimetype": "text/x-python",
   "name": "python",
   "nbconvert_exporter": "python",
   "pygments_lexer": "ipython3",
   "version": "3.8.8"
  }
 },
 "nbformat": 4,
 "nbformat_minor": 5
}
