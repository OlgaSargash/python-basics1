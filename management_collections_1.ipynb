{
 "cells": [
  {
   "cell_type": "code",
   "execution_count": 16,
   "id": "aaef8da2",
   "metadata": {},
   "outputs": [
    {
     "name": "stdout",
     "output_type": "stream",
     "text": [
      "Введите слово: testing\n",
      "t\n"
     ]
    }
   ],
   "source": [
    "word = str(input('Введите слово: '))\n",
    "i = len(word)\n",
    "if i % 2 != 0:\n",
    "    y = i // 2\n",
    "    print(word[y])\n",
    "else:\n",
    "    e = y - 2\n",
    "    print(word[e:y])"
   ]
  },
  {
   "cell_type": "code",
   "execution_count": null,
   "id": "d58c279f",
   "metadata": {},
   "outputs": [],
   "source": [
    "s == sum(n)\n",
    "print('s')"
   ]
  },
  {
   "cell_type": "code",
   "execution_count": 13,
   "id": "1ed7b1ee",
   "metadata": {},
   "outputs": [
    {
     "name": "stdout",
     "output_type": "stream",
     "text": [
      "Введите число: 4\n"
     ]
    },
    {
     "ename": "AttributeError",
     "evalue": "'int' object has no attribute 'split'",
     "output_type": "error",
     "traceback": [
      "\u001b[1;31m---------------------------------------------------------------------------\u001b[0m",
      "\u001b[1;31mAttributeError\u001b[0m                            Traceback (most recent call last)",
      "\u001b[1;32m<ipython-input-13-c04c9828c8f5>\u001b[0m in \u001b[0;36m<module>\u001b[1;34m\u001b[0m\n\u001b[1;32m----> 1\u001b[1;33m \u001b[0mn\u001b[0m \u001b[1;33m=\u001b[0m \u001b[0mint\u001b[0m\u001b[1;33m(\u001b[0m\u001b[0minput\u001b[0m\u001b[1;33m(\u001b[0m\u001b[1;34m'Введите число: '\u001b[0m\u001b[1;33m)\u001b[0m\u001b[1;33m)\u001b[0m\u001b[1;33m.\u001b[0m\u001b[0msplit\u001b[0m\u001b[1;33m(\u001b[0m\u001b[1;33m)\u001b[0m\u001b[1;33m\u001b[0m\u001b[1;33m\u001b[0m\u001b[0m\n\u001b[0m\u001b[0;32m      2\u001b[0m \u001b[1;32mwhile\u001b[0m \u001b[0mn\u001b[0m \u001b[1;33m!=\u001b[0m \u001b[1;36m0\u001b[0m\u001b[1;33m:\u001b[0m\u001b[1;33m\u001b[0m\u001b[1;33m\u001b[0m\u001b[0m\n\u001b[0;32m      3\u001b[0m     \u001b[0mn\u001b[0m \u001b[1;33m=\u001b[0m \u001b[0mint\u001b[0m\u001b[1;33m(\u001b[0m\u001b[0minput\u001b[0m\u001b[1;33m(\u001b[0m\u001b[1;34m'Введите число: '\u001b[0m\u001b[1;33m)\u001b[0m\u001b[1;33m)\u001b[0m\u001b[1;33m.\u001b[0m\u001b[0msplit\u001b[0m\u001b[1;33m(\u001b[0m\u001b[1;33m)\u001b[0m\u001b[1;33m\u001b[0m\u001b[1;33m\u001b[0m\u001b[0m\n\u001b[0;32m      4\u001b[0m \u001b[0mprint\u001b[0m\u001b[1;33m(\u001b[0m\u001b[0mn\u001b[0m\u001b[1;33m)\u001b[0m\u001b[1;33m\u001b[0m\u001b[1;33m\u001b[0m\u001b[0m\n",
      "\u001b[1;31mAttributeError\u001b[0m: 'int' object has no attribute 'split'"
     ]
    }
   ],
   "source": [
    "n = int(input('Введите число: ')) \n",
    "while n != 0:\n",
    "    n = int(input('Введите число: ')).split()\n",
    "print(n)"
   ]
  },
  {
   "cell_type": "code",
   "execution_count": 73,
   "id": "ec9ba01c",
   "metadata": {},
   "outputs": [
    {
     "name": "stdout",
     "output_type": "stream",
     "text": [
      "Рузультат: \n",
      "Внимание, кто-то может остаться без пары!\n",
      "Alex и Emma\n",
      "Arthur и Kate\n",
      "John и Kira\n",
      "Peter и Liza\n",
      "Richard и Trisha\n"
     ]
    }
   ],
   "source": [
    "boys = ['Peter', 'Alex', 'John', 'Arthur', 'Richard']\n",
    "girls = ['Kate', 'Liza', 'Kira', 'Emma', 'Trisha']\n",
    "b = sorted(boys)\n",
    "g = sorted(girls)\n",
    "print('Рузультат: ')\n",
    "print('Внимание, кто-то может остаться без пары!')\n",
    "for b_1, g_1 in list(zip(b, g)):\n",
    "    print(f'{b_1} и {g_1}')"
   ]
  },
  {
   "cell_type": "code",
   "execution_count": 83,
   "id": "dc4662c9",
   "metadata": {},
   "outputs": [
    {
     "name": "stdout",
     "output_type": "stream",
     "text": [
      "Средняя температура в странах:\n",
      "Thailand - 23.9 C\n",
      "Germany - 13.8 C\n",
      "Russia - 3.7 C\n",
      "Poland - 12.0 C\n"
     ]
    }
   ],
   "source": [
    "countries_temperature = [\n",
    "['Thailand', [75.2, 77, 78.8, 73.4, 68, 75.2, 77]],\n",
    "['Germany', [57.2, 55.4, 59, 59, 53.6]],\n",
    "['Russia', [35.6, 37.4, 39.2, 41, 42.8, 39.2, 35.6]],\n",
    "['Poland', [50, 50, 53.6, 57.2, 55.4, 55.4]]\n",
    "]\n",
    "first, second, third, fourth = countries_temperature\n",
    "print(f'Средняя температура в странах:')\n",
    "for element in first, second, third, fourth:\n",
    "    a = element[1]\n",
    "    avg_temp = sum(a) / len(a)\n",
    "    avg_C = round((avg_temp - 32) / 1.8, 1)   #функция round(..., 1) окр рез-т до 1-го зн после запятой\n",
    "    print(f'{element[0]} - {avg_C} C')"
   ]
  },
  {
   "cell_type": "code",
   "execution_count": null,
   "id": "235aed09",
   "metadata": {},
   "outputs": [],
   "source": [
    "  #  sum_avg = sum(s_[2] // len(s_[0])   st_1 = str(st)\n",
    "    s_ = s.split(',')\n",
    "    print(s_)\n",
    "    date, user, nume = st\n",
    "    n = int(nume)\n",
    "    [n_ for n_ in n]\n",
    "    [s.split(',') for s in stream]"
   ]
  },
  {
   "cell_type": "code",
   "execution_count": 48,
   "id": "b37f92e2",
   "metadata": {},
   "outputs": [],
   "source": [
    "stream = [\n",
    "'2018-01-01,user100,150',\n",
    "'2018-01-07,user99,205',\n",
    "'2018-03-29,user1001,81'\n",
    "]\n",
    "for s in stream:\n",
    "    s_ = s.split(',')"
   ]
  },
  {
   "cell_type": "code",
   "execution_count": 38,
   "id": "8482fdc4",
   "metadata": {},
   "outputs": [],
   "source": [
    "first, *other, last = s"
   ]
  }
 ],
 "metadata": {
  "kernelspec": {
   "display_name": "Python 3",
   "language": "python",
   "name": "python3"
  },
  "language_info": {
   "codemirror_mode": {
    "name": "ipython",
    "version": 3
   },
   "file_extension": ".py",
   "mimetype": "text/x-python",
   "name": "python",
   "nbconvert_exporter": "python",
   "pygments_lexer": "ipython3",
   "version": "3.8.8"
  }
 },
 "nbformat": 4,
 "nbformat_minor": 5
}
