{
 "cells": [
  {
   "cell_type": "code",
   "execution_count": 12,
   "id": "aaef8da2",
   "metadata": {},
   "outputs": [
    {
     "name": "stdout",
     "output_type": "stream",
     "text": [
      "Введите слово: testing\n",
      "t\n"
     ]
    }
   ],
   "source": [
    "word = str(input('Введите слово: '))\n",
    "i = len(word)\n",
    "if i % 2 == 0:\n",
    "    e = i // 2 - 1\n",
    "    y_ = i // 2 + 1\n",
    "    print(word[e:y_])\n",
    "else:\n",
    "    print(word[y_])"
   ]
  },
  {
   "cell_type": "code",
   "execution_count": 24,
   "id": "1ed7b1ee",
   "metadata": {},
   "outputs": [
    {
     "name": "stdout",
     "output_type": "stream",
     "text": [
      "Введите число: 4\n",
      "Введите число: 5\n",
      "Введите число: 6\n",
      "Введите число: 0\n",
      "Результат:\n",
      "15\n"
     ]
    }
   ],
   "source": [
    "numbers = [1]\n",
    "for n in numbers:\n",
    "    if n != 0:\n",
    "        user = int(input('Введите число: '))\n",
    "        numbers.append(user)\n",
    "    else:\n",
    "        print('Результат:')\n",
    "        sum_numb = sum(numbers) - 1 \n",
    "        print(sum_numb)"
   ]
  },
  {
   "cell_type": "code",
   "execution_count": 42,
   "id": "ec9ba01c",
   "metadata": {},
   "outputs": [
    {
     "name": "stdout",
     "output_type": "stream",
     "text": [
      "Результат: \n",
      "Alex и Emma\n",
      "Arthur и Kate\n",
      "John и Kira\n",
      "Peter и Liza\n",
      "Richard и Trisha\n"
     ]
    }
   ],
   "source": [
    "boys = ['Peter', 'Alex', 'John', 'Arthur', 'Richard']\n",
    "girls = ['Kate', 'Liza', 'Kira', 'Emma', 'Trisha']\n",
    "b = sorted(boys)\n",
    "g = sorted(girls)\n",
    "if len(b) == len(g):\n",
    "    print('Результат: ')\n",
    "    for b_1, g_1 in list(zip(b, g)):\n",
    "        print(f'{b_1} и {g_1}')\n",
    "else:\n",
    "    print('Внимание, кто-то остаётся без пары!')"
   ]
  },
  {
   "cell_type": "code",
   "execution_count": 83,
   "id": "dc4662c9",
   "metadata": {},
   "outputs": [
    {
     "name": "stdout",
     "output_type": "stream",
     "text": [
      "Средняя температура в странах:\n",
      "Thailand - 23.9 C\n",
      "Germany - 13.8 C\n",
      "Russia - 3.7 C\n",
      "Poland - 12.0 C\n"
     ]
    }
   ],
   "source": [
    "countries_temperature = [\n",
    "['Thailand', [75.2, 77, 78.8, 73.4, 68, 75.2, 77]],\n",
    "['Germany', [57.2, 55.4, 59, 59, 53.6]],\n",
    "['Russia', [35.6, 37.4, 39.2, 41, 42.8, 39.2, 35.6]],\n",
    "['Poland', [50, 50, 53.6, 57.2, 55.4, 55.4]]\n",
    "]\n",
    "first, second, third, fourth = countries_temperature\n",
    "print(f'Средняя температура в странах:')\n",
    "for element in first, second, third, fourth:\n",
    "    a = element[1]\n",
    "    avg_temp = sum(a) / len(a)\n",
    "    avg_C = round((avg_temp - 32) / 1.8, 1)   #функция round(..., 1) окр рез-т до 1-го зн после запятой\n",
    "    print(f'{element[0]} - {avg_C} C')"
   ]
  },
  {
   "cell_type": "code",
   "execution_count": 1,
   "id": "8482fdc4",
   "metadata": {},
   "outputs": [
    {
     "name": "stdout",
     "output_type": "stream",
     "text": [
      "Результат:\n",
      "Среднее количество просмотров на уникального пользователя: 145.33\n"
     ]
    }
   ],
   "source": [
    "stream = [\n",
    "'2018-01-01,user100,150',\n",
    "'2018-01-07,user99,205',\n",
    "'2018-03-29,user1001,81'\n",
    "]\n",
    "result = []   \n",
    "for str_ in stream:\n",
    "    numbers = str_.split(',')\n",
    "    date, user, nume = numbers\n",
    "    result.append(int(nume))\n",
    "avg = round(sum(result) / len(result), 2)\n",
    "print('Результат:')\n",
    "print(f'Среднее количество просмотров на уникального пользователя: {avg}')"
   ]
  }
 ],
 "metadata": {
  "kernelspec": {
   "display_name": "Python 3",
   "language": "python",
   "name": "python3"
  },
  "language_info": {
   "codemirror_mode": {
    "name": "ipython",
    "version": 3
   },
   "file_extension": ".py",
   "mimetype": "text/x-python",
   "name": "python",
   "nbconvert_exporter": "python",
   "pygments_lexer": "ipython3",
   "version": "3.8.8"
  }
 },
 "nbformat": 4,
 "nbformat_minor": 5
}
