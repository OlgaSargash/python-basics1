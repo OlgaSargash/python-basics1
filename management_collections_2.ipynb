{
 "cells": [
  {
   "cell_type": "code",
   "execution_count": 6,
   "id": "7f3e5a28",
   "metadata": {},
   "outputs": [
    {
     "name": "stdout",
     "output_type": "stream",
     "text": [
      "{98, 35, 15, 213, 54, 119}\n"
     ]
    }
   ],
   "source": [
    "#множество гео-меток всех.\n",
    "ids = {'user1': [213, 213, 213, 15, 213], \n",
    "       'user2': [54, 54, 119, 119, 119], \n",
    "       'user3': [213, 98, 98, 35]}\n",
    "total_val = set([one_el for el in ids.values() for one_el in el])\n",
    "print(total_val)"
   ]
  },
  {
   "cell_type": "code",
   "execution_count": 33,
   "id": "cc159b8b",
   "metadata": {},
   "outputs": [
    {
     "name": "stdout",
     "output_type": "stream",
     "text": [
      "Результат:\n",
      "\n",
      "Поисковых запросов, содержащих 2 слов(а): 42.86 %\n",
      "Поисковых запросов, содержащих 3 слов(а): 57.14 %\n"
     ]
    }
   ],
   "source": [
    "#распределение количества слов в запросах в требуемом виде.\n",
    "queries = [\n",
    "    'смотреть сериалы онлайн',\n",
    "    'новости спорта',\n",
    "    'афиша кино',\n",
    "    'курс доллара',\n",
    "    'сериалы этим летом',\n",
    "    'курс по питону',\n",
    "    'сериалы про спорт',\n",
    "]   \n",
    "queries_len = len(queries)\n",
    "dict_query = {}\n",
    "print('Результат:')\n",
    "for one_str in queries:\n",
    "    len_str = len(one_str.split())\n",
    "    if len_str in dict_query and len_str == 2:\n",
    "        dict_query[len_str] += 1\n",
    "    elif len_str in dict_query and len_str == 3:\n",
    "        dict_query[len_str] += 1\n",
    "    else:\n",
    "        dict_query[len_str] = 1\n",
    "avg_two = round(dict_query[2] / queries_len * 100, 2)\n",
    "avg_three = round(dict_query[3] / queries_len * 100, 2)\n",
    "print()\n",
    "print(f'Поисковых запросов, содержащих 2 слов(а): {avg_two} %')\n",
    "print(f'Поисковых запросов, содержащих 3 слов(а): {avg_three} %')"
   ]
  },
  {
   "cell_type": "code",
   "execution_count": 38,
   "id": "47940936",
   "metadata": {},
   "outputs": [
    {
     "name": "stdout",
     "output_type": "stream",
     "text": [
      "adwords {'revenue': 35, 'cost': 34, 'ROI': 2.94}\n",
      "facebook {'revenue': 103, 'cost': 110, 'ROI': -6.36}\n",
      "twitter {'revenue': 11, 'cost': 24, 'ROI': -54.17}\n",
      "vk {'revenue': 103, 'cost': 98, 'ROI': 5.1}\n",
      "yandex {'revenue': 179, 'cost': 153, 'ROI': 16.99}\n"
     ]
    }
   ],
   "source": [
    " # дополнить показателем ROI по формуле: (revenue / cost - 1) * 100 и отсортировать по ключам.\n",
    "results = {\n",
    "    'vk': {'revenue': 103, 'cost': 98},\n",
    "    'yandex': {'revenue': 179, 'cost': 153},\n",
    "    'facebook': {'revenue': 103, 'cost': 110},\n",
    "    'adwords': {'revenue': 35, 'cost': 34},\n",
    "    'twitter': {'revenue': 11, 'cost': 24},\n",
    "} \n",
    "for key, values in sorted(results.items()):\n",
    "    ROI_ = round((values['revenue'] / values['cost'] - 1) * 100, 2)\n",
    "    values.setdefault('ROI', ROI_)\n",
    "    print(key, values)"
   ]
  },
  {
   "cell_type": "code",
   "execution_count": 12,
   "id": "9f9e31f7",
   "metadata": {},
   "outputs": [
    {
     "name": "stdout",
     "output_type": "stream",
     "text": [
      "Результат: Максимальный объем продаж на рекламном канале: vk\n"
     ]
    }
   ],
   "source": [
    "# название канала с макс V продаж.Результат: Максимальный объем продаж на рекламном канале: vk\n",
    "stats = {'facebook': 55, 'yandex': 115, 'vk': 120, 'google': 99, 'email': 42, 'ok': 98}\n",
    "import operator\n",
    "sort_stats = sorted(stats.items(), key = operator.itemgetter(1), reverse = True)\n",
    "print(f'Результат: Максимальный объем продаж на рекламном канале: {sort_stats[0][0]}')"
   ]
  },
  {
   "cell_type": "code",
   "execution_count": 2,
   "id": "961b1fb9",
   "metadata": {},
   "outputs": [
    {
     "name": "stdout",
     "output_type": "stream",
     "text": [
      "Результат: {'2018-01-01': {'yandex': {'cpc': 100}}}\n"
     ]
    }
   ],
   "source": [
    "# словарь со вложеными словарями. \n",
    "my_list = ['2018-01-01', 'yandex', 'cpc', 100]\n",
    "import functools\n",
    "new_dict = functools.reduce(lambda x, y: {y: x}, reversed(my_list))\n",
    "print(f'Результат: {new_dict}')"
   ]
  },
  {
   "cell_type": "code",
   "execution_count": null,
   "id": "cd111bc4",
   "metadata": {},
   "outputs": [],
   "source": [
    "#  запрашивать количество порций и отображать информацию о суммарном количестве ингредиентов\n",
    "cook_book = {\n",
    "  'салат': [\n",
    "     {'ingridient_name': 'сыр', 'quantity': 50, 'measure': 'гр'},\n",
    "     {'ingridient_name': 'томаты', 'quantity': 2, 'measure': 'шт'},\n",
    "     {'ingridient_name': 'огурцы', 'quantity': 20, 'measure': 'гр'},\n",
    "     {'ingridient_name': 'маслины', 'quantity': 10, 'measure': 'гр'},\n",
    "     {'ingridient_name': 'оливковое масло', 'quantity': 20, 'measure': 'мл'},\n",
    "     {'ingridient_name': 'салат', 'quantity': 10, 'measure': 'гр'},\n",
    "     {'ingridient_name': 'перец', 'quantity': 20, 'measure': 'гр'}\n",
    "    ],\n",
    "  'пицца': [\n",
    "     {'ingridient_name': 'сыр', 'quantity': 20, 'measure': 'гр'},\n",
    "     {'ingridient_name': 'колбаса', 'quantity': 30, 'measure': 'гр'},\n",
    "     {'ingridient_name': 'бекон', 'quantity': 30, 'measure': 'гр'},\n",
    "     {'ingridient_name': 'оливки', 'quantity': 10, 'measure': 'гр'},\n",
    "     {'ingridient_name': 'томаты', 'quantity': 20, 'measure': 'гр'},\n",
    "     {'ingridient_name': 'тесто', 'quantity': 100, 'measure': 'гр'},   \n",
    "    ],\n",
    "  'лимонад': [\n",
    "     {'ingridient_name': 'лимон', 'quantity': 1, 'measure': 'шт'},\n",
    "     {'ingridient_name': 'вода', 'quantity': 200, 'measure': 'мл'},\n",
    "     {'ingridient_name': 'сахар', 'quantity': 10, 'measure': 'гр'},\n",
    "     {'ingridient_name': 'лайм', 'quantity': 20, 'measure': 'гр'},    \n",
    "    ]\n",
    "}\n",
    "user = int(input('Введите колличество прорций: '))\n"
   ]
  }
 ],
 "metadata": {
  "kernelspec": {
   "display_name": "Python 3",
   "language": "python",
   "name": "python3"
  },
  "language_info": {
   "codemirror_mode": {
    "name": "ipython",
    "version": 3
   },
   "file_extension": ".py",
   "mimetype": "text/x-python",
   "name": "python",
   "nbconvert_exporter": "python",
   "pygments_lexer": "ipython3",
   "version": "3.8.8"
  }
 },
 "nbformat": 4,
 "nbformat_minor": 5
}
