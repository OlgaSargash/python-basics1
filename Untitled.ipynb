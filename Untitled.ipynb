{
 "cells": [
  {
   "cell_type": "code",
   "execution_count": 1,
   "id": "9eb7e566",
   "metadata": {},
   "outputs": [
    {
     "name": "stdout",
     "output_type": "stream",
     "text": [
      "width = 45\n",
      "length = 205\n",
      "height = 45\n",
      "Упаковка для лыж\n"
     ]
    }
   ],
   "source": [
    "a = int(input('width = '))\n",
    "b = int(input('length = '))\n",
    "c = int(input('height = '))\n",
    "if b > 200:\n",
    "    print('Упаковка для лыж')\n",
    "elif 50 < a or b or c > 15:\n",
    "    print('Коробка №2')\n",
    "elif a and b and c < 15:\n",
    "    print('Коробка №1') \n",
    "else:\n",
    "    print('Стандартная коробка №3')"
   ]
  },
  {
   "cell_type": "code",
   "execution_count": 22,
   "id": "974714c8",
   "metadata": {},
   "outputs": [
    {
     "name": "stdout",
     "output_type": "stream",
     "text": [
      "Введите  или скопируйте фразу640Кб должно хватить для любых задач. Билл Гейтс (по легенде)\n",
      "Введите  или скопируйте фразуНасколько проще было бы писать программы, если бы не заказчики\n",
      "Фраза 2 длиннее фразы 1\n"
     ]
    }
   ],
   "source": [
    "phrase_1 = input('Введите  или скопируйте фразу: ') \n",
    "phrase_2 = input('Введите  или скопируйте фразу: ')\n",
    "a = len(phrase_1)\n",
    "b = len(phrase_2)\n",
    "if a > b:\n",
    "    print(f'Фраза 1 длиннее фразы 2')\n",
    "elif a < b:\n",
    "    print(f'Фраза 2 длиннее фразы 1')\n",
    "else:\n",
    "    print(f'Фразы равной длины')"
   ]
  },
  {
   "cell_type": "code",
   "execution_count": 9,
   "id": "1796db5a",
   "metadata": {},
   "outputs": [
    {
     "name": "stdout",
     "output_type": "stream",
     "text": [
      "year = 2021\n",
      "Обычный год\n"
     ]
    }
   ],
   "source": [
    "user = int(input('year = '))\n",
    "from calendar import isleap\n",
    "if calendar.isleap(user) == False:\n",
    "    print(f'Обычный год')\n",
    "else:\n",
    "    print(f'Высокосный год')"
   ]
  },
  {
   "cell_type": "code",
   "execution_count": 4,
   "id": "cb2f5148",
   "metadata": {},
   "outputs": [
    {
     "name": "stdout",
     "output_type": "stream",
     "text": [
      "Введите день: 19\n",
      "19\n",
      "Введите месяц: август\n",
      "Август\n",
      "Результат: \n",
      "Ваш знак зодиака: Лев\n"
     ]
    }
   ],
   "source": [
    "date = int(input('Введите день: '))\n",
    "print(date)\n",
    "month = str(input('Введите месяц: '))\n",
    "mon_ = month.capitalize()\n",
    "print(mon_)\n",
    "print('Результат: ')\n",
    "if date >= 22 and mon_ == 'Июнь' or date <= 22 and mon_ == 'Июль':\n",
    "    print('Ваш знак зодиака: Рак')\n",
    "elif date >= 23 and mon_ == 'Июль' or date <= 21 and mon_ == 'Август':\n",
    "    print('Ваш знак зодиака: Лев')\n",
    "elif date >= 22 and mon_ == 'Августа' or date <= 23 and mon_ == 'Сентябрь':\n",
    "    print('Ваш знак зодиака: Дева')\n",
    "elif date >= 24 and mon_ == 'Сентябрь' or date <= 23 and mon_ == 'Октябрь':\n",
    "    print('Ваш знак зодиака: Весы')\n",
    "elif date >= 24 and mon_ == 'Октябрь' or date <= 22 and mon_ == 'Ноябрь':\n",
    "    print('Ваш знак зодиака: Скорпион')\n",
    "elif date >= 23 and mon_ == 'Ноябрь' or date <= 22 and mon_ == 'Декабрь':\n",
    "    print('Ваш знак зодиака: Стрелец')\n",
    "elif date >= 23 and mon_ == 'Декабрь' or date <= 20 and mon_ == 'Январь':\n",
    "    print('Ваш знак зодиака: Козерог')\n",
    "elif date >= 21 and mon_ == 'Январь' or date <= 19 and mon_ == 'Февраль':\n",
    "    print('Ваш знак зодиака: Водолей')\n",
    "elif date >= 20 and mon_ == 'Февраль' or date <= 20 and mon_ == 'Март':\n",
    "    print('Ваш знак зодиака: Рыба')\n",
    "elif date >= 21 and mon_ == 'Март' or date <= 20 and mon_ == 'Апрель':\n",
    "    print('Ваш знак зодиака: Овен')\n",
    "elif date >= 21 and mon_ == 'Апрель' or date <= 21 and mon_ == 'Май':\n",
    "    print('Ваш знак зодиака: Телец')\n",
    "elif date >= 22 and mon_ == 'Май' or date <= 21 and mon_ == 'Июнь':\n",
    "    print('Ваш знак зодиака: Близнецы')\n",
    "else:\n",
    "    print('В месяце ошибка. Введите заново месяц')"
   ]
  },
  {
   "cell_type": "code",
   "execution_count": null,
   "id": "b596b795",
   "metadata": {},
   "outputs": [],
   "source": [
    "user_input = input('Введите тип фигуры: ')\n",
    "if user_input == 'круг':\n",
    "    user_circle = float(input('Введите радиус круга: '))\n",
    "    print(user_circle)\n",
    "    print(f'Площадь круга:')\n",
    "    print(3.14 * (user_circle ** 2))\n",
    "elif user_input == 'прямоугольник':\n",
    "    user_rectangle = float(input('Введите длину стороны A: '))\n",
    "    print(user_rectangle)\n",
    "    user_rectangle_1 = float(input('Введите длину стороны B:'))\n",
    "    print(user_rectangle_1)\n",
    "    print(f'Площадь прямоугольника: ')\n",
    "    print(user_rectangle * user_rectangle_1)\n",
    "elif user_input == 'треугольник':\n",
    "    user_triangle = float(input('Введите длину стороны A: '))\n",
    "    print(user_triangle)\n",
    "    user_triangle_1 = float(input('Введите длину стороны B: '))\n",
    "    print(user_triangle_1)\n",
    "    user_triangle_2 = float(input('Введите длину стороны C: '))\n",
    "    print(user_triangle_2)\n",
    "    import math\n",
    "    print(f'Площадь треугольника: ')\n",
    "    p = (user_triangle + user_triangle_1 + user_triangle_2) / 2\n",
    "    S = math.sqrt(p * (p - user_triangle) * (p - user_triangle_1) * (p - user_triangle_2))\n",
    "    print(round(S, 2))\n",
    "else:\n",
    "    print('В типе фигуры ошибка')"
   ]
  }
 ],
 "metadata": {
  "kernelspec": {
   "display_name": "Python 3",
   "language": "python",
   "name": "python3"
  },
  "language_info": {
   "codemirror_mode": {
    "name": "ipython",
    "version": 3
   },
   "file_extension": ".py",
   "mimetype": "text/x-python",
   "name": "python",
   "nbconvert_exporter": "python",
   "pygments_lexer": "ipython3",
   "version": "3.8.8"
  }
 },
 "nbformat": 4,
 "nbformat_minor": 5
}
