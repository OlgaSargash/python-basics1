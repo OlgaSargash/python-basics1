{
 "cells": [
  {
   "cell_type": "code",
   "execution_count": 21,
   "id": "9eb7e566",
   "metadata": {},
   "outputs": [
    {
     "name": "stdout",
     "output_type": "stream",
     "text": [
      "Введите ширину в см - 10\n",
      "Введите длину в см - 205\n",
      "Введите высоту в см - 5\n",
      "Коробка №1\n"
     ]
    }
   ],
   "source": [
    "a = int(input('Введите ширину в см - '))\n",
    "b = int(input('Введите длину в см - '))\n",
    "c = int(input('Введите высоту в см - '))\n",
    "if a and b and c < 15:\n",
    "    print('Коробка №1')\n",
    "elif 50 < a or b or c > 15:\n",
    "    print('Коробка №2')\n",
    "elif b > 200:\n",
    "    print('Упаковка для лыж')\n",
    "else:\n",
    "    print('Стандартная коробка №3')"
   ]
  },
  {
   "cell_type": "code",
   "execution_count": null,
   "id": "2b61ba3b",
   "metadata": {},
   "outputs": [],
   "source": [
    "n = range(20, 40)\n",
    "print(n)\n",
    "if user == 1900 + (4 * int(n)):\n",
    "        print(f'Высокосный год')\n",
    "        break\n",
    "    else:\n",
    "        print(f'Обычный год')"
   ]
  },
  {
   "cell_type": "code",
   "execution_count": 22,
   "id": "974714c8",
   "metadata": {},
   "outputs": [
    {
     "name": "stdout",
     "output_type": "stream",
     "text": [
      "Введите  или скопируйте фразу640Кб должно хватить для любых задач. Билл Гейтс (по легенде)\n",
      "Введите  или скопируйте фразуНасколько проще было бы писать программы, если бы не заказчики\n",
      "Фраза 2 длиннее фразы 1\n"
     ]
    }
   ],
   "source": [
    "phrase_1 = input('Введите  или скопируйте фразу: ') \n",
    "phrase_2 = input('Введите  или скопируйте фразу: ')\n",
    "a = len(phrase_1)\n",
    "b = len(phrase_2)\n",
    "if a > b:\n",
    "    print(f'Фраза 1 длиннее фразы 2')\n",
    "elif a < b:\n",
    "    print(f'Фраза 2 длиннее фразы 1')\n",
    "else:\n",
    "    print(f'Фразы равной длины')"
   ]
  },
  {
   "cell_type": "code",
   "execution_count": null,
   "id": "1796db5a",
   "metadata": {},
   "outputs": [],
   "source": [
    "#user = int(input('year = '))\n",
    "for n in range(20, 40):\n",
    "    n_ = 1900 + (4 * n)\n",
    "    print(n_)"
   ]
  },
  {
   "cell_type": "code",
   "execution_count": null,
   "id": "cb2f5148",
   "metadata": {},
   "outputs": [],
   "source": []
  },
  {
   "cell_type": "code",
   "execution_count": null,
   "id": "b596b795",
   "metadata": {},
   "outputs": [],
   "source": [
    "user_input = str(input('Введите тип фигуры: '))\n",
    "if user_input == 'круг':\n",
    "    user_circle = float(input('Введите радиус круга: '))\n",
    "    print(user_circle)\n",
    "    print(f'Площадь круга:')\n",
    "    print(3.14 * (user_circle ** 2))\n",
    "elif user_input == 'прямоугольник':\n",
    "    user_rectangle = float(input('Введите длину стороны A: '))\n",
    "    print(user_rectangle)\n",
    "    user_rectangle_1 = float(input('Введите длину стороны B:'))\n",
    "    print(user_rectangle_1)\n",
    "    print(f'Площадь прямоугольника: ')\n",
    "    print(user_rectangle * user_rectangle_1)\n",
    "elif user_input == 'треугольник':\n",
    "    user_triangle = float(input('Введите длину стороны A: '))\n",
    "    print(user_triangle)\n",
    "    user_triangle_1 = float(input('Введите длину стороны B: '))\n",
    "    print(user_triangle_1)\n",
    "    user_triangle_2 = float(input('Введите длину стороны C: '))\n",
    "    print(user_triangle_2)\n",
    "    import math\n",
    "    print(f'Площадь треугольника: ')\n",
    "    p = (user_triangle + user_triangle_1 + user_triangle_2) / 2\n",
    "    S = math.sqrt(p * (p - user_triangle) * (p - user_triangle_1) * (p - user_triangle_2))\n",
    "    print(round(S, 2))\n",
    "else:\n",
    "    print('В типе фигуры ошибка')"
   ]
  }
 ],
 "metadata": {
  "kernelspec": {
   "display_name": "Python 3",
   "language": "python",
   "name": "python3"
  },
  "language_info": {
   "codemirror_mode": {
    "name": "ipython",
    "version": 3
   },
   "file_extension": ".py",
   "mimetype": "text/x-python",
   "name": "python",
   "nbconvert_exporter": "python",
   "pygments_lexer": "ipython3",
   "version": "3.8.8"
  }
 },
 "nbformat": 4,
 "nbformat_minor": 5
}
