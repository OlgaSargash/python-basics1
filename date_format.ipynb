{
 "cells": [
  {
   "cell_type": "markdown",
   "id": "9c579645",
   "metadata": {},
   "source": [
    "- DATE FORMAT"
   ]
  },
  {
   "cell_type": "markdown",
   "id": "4bd80976",
   "metadata": {},
   "source": [
    "*ЗАДАНИЕ_1*"
   ]
  },
  {
   "cell_type": "code",
   "execution_count": 15,
   "id": "50b9321c",
   "metadata": {},
   "outputs": [
    {
     "name": "stdout",
     "output_type": "stream",
     "text": [
      "2002-10-02 00:00:00\n",
      "2013-10-11 00:00:00\n",
      "1977-08-18 00:00:00\n"
     ]
    }
   ],
   "source": [
    "\"\"\"Для каждой газеты из списка напишите формат указанной даты для перевода в объект datetime\n",
    "   The Moscow Times - Wednesday, October 2, 2002\n",
    "   The Guardian - Friday, 11.10.13\n",
    "   Daily News - Thursday, 18 August 1977\"\"\"\n",
    "from datetime import datetime\n",
    "mos_times = datetime.strptime('Wednesday, October 2, 2002', '%A, %B %d, %Y')\n",
    "print(mos_times)\n",
    "guar = datetime.strptime('Friday, 11.10.13', '%A, %d.%m.%y')\n",
    "print(guar)\n",
    "daily = datetime.strptime('Thursday, 18 August 1977', '%A, %d %B %Y')\n",
    "print(daily)"
   ]
  },
  {
   "cell_type": "markdown",
   "id": "ecd88116",
   "metadata": {},
   "source": [
    "-ЗАДАНИЕ_2"
   ]
  },
  {
   "cell_type": "code",
   "execution_count": 16,
   "id": "2781a148",
   "metadata": {},
   "outputs": [
    {
     "name": "stdout",
     "output_type": "stream",
     "text": [
      "2018-04-02\n",
      "True\n",
      "Некорректная дата: 2018-02-29 False\n",
      "Некорректная дата: 2018-19-02 False\n",
      "Сумма некорректных значений: 2\n"
     ]
    }
   ],
   "source": [
    "\"\"\"Поток дат в формате YYYY-MM-DD, в которых встречаются некорректные значения:\n",
    "Функция проверяет эти даты на корректность.\n",
    "Т. е. для каждой даты возвращает True (дата корректна) или False (некорректная дата).\"\"\"\n",
    "stream = ['2018-04-02', '2018-02-29', '2018-19-02']\n",
    "not_date = 0\n",
    "for str_ in stream:\n",
    "    try:\n",
    "        st_ = datetime.strptime(str_, '%Y-%m-%d')\n",
    "        print(str_)\n",
    "        print(True)\n",
    "    except:\n",
    "        not_date += 1\n",
    "        print(f'Некорректная дата: {str_} False')\n",
    "print(f'Сумма некорректных значений: {not_date}')"
   ]
  },
  {
   "cell_type": "markdown",
   "id": "549e79a1",
   "metadata": {},
   "source": [
    "*ЗАДАНИЕ_3*"
   ]
  },
  {
   "cell_type": "code",
   "execution_count": 17,
   "id": "bf737398",
   "metadata": {},
   "outputs": [
    {
     "name": "stdout",
     "output_type": "stream",
     "text": [
      "Введите дату начала в формате YYYY-MM-DD: 2021-08-26\n",
      "Введите дату окончания в формате YYYY-MM-DD: 2021-08-32\n",
      "Некорректная дата или start_date > end_date\n",
      "[]\n"
     ]
    }
   ],
   "source": [
    "\"\"\"Напишите функцию date_range, которая возвращает список дат за период от start_date до end_date.\n",
    "Даты должны вводиться в формате YYYY-MM-DD. В случае неверного формата или при start_date > end_date\n",
    "должен возвращаться пустой список.\"\"\"\n",
    "start_date = input('Введите дату начала в формате YYYY-MM-DD: ')\n",
    "end_date = input('Введите дату окончания в формате YYYY-MM-DD: ')\n",
    "date_range = []\n",
    "try:\n",
    "    start_date_dt = datetime.strptime(start_date, '%Y-%m-%d')\n",
    "    end_date_dt = datetime.strptime(end_date, '%Y-%m-%d')\n",
    "    date_range = start_date_dt\n",
    "    while date_range < end_date_dt:\n",
    "        date_range += timedelta(days=1)\n",
    "        print(date_range.strftime('%Y-%m-%d'))\n",
    "except:\n",
    "    print('Некорректная дата или start_date > end_date')\n",
    "    print(date_range)"
   ]
  }
 ],
 "metadata": {
  "kernelspec": {
   "display_name": "Python 3",
   "language": "python",
   "name": "python3"
  },
  "language_info": {
   "codemirror_mode": {
    "name": "ipython",
    "version": 3
   },
   "file_extension": ".py",
   "mimetype": "text/x-python",
   "name": "python",
   "nbconvert_exporter": "python",
   "pygments_lexer": "ipython3",
   "version": "3.8.8"
  }
 },
 "nbformat": 4,
 "nbformat_minor": 5
}
