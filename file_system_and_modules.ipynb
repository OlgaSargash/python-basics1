{
 "cells": [
  {
   "cell_type": "code",
   "execution_count": 39,
   "id": "228a387c",
   "metadata": {},
   "outputs": [
    {
     "name": "stdout",
     "output_type": "stream",
     "text": [
      "{'df85c3cd61': 'Бытовая техника'}\n"
     ]
    }
   ],
   "source": [
    "import json\n",
    "purchases = {}\n",
    "with open('purchase_log.txt', encoding='utf8') as f:\n",
    "    \"\"\"Переведите содержимое файла purchase_log.txt в словарь purchases вида: {‘1840e0b9d4’: ‘Продукты’, …}\"\"\"\n",
    "    for line in f:\n",
    "        dict_ = json.loads(line) #переводим str {\" \": \" \"} в dict\n",
    "        key = dict_['user_id']\n",
    "        val = dict_['category']\n",
    "    purchases.setdefault(key, val)\n",
    "print(purchases)"
   ]
  },
  {
   "cell_type": "code",
   "execution_count": 41,
   "id": "8bc6b101",
   "metadata": {},
   "outputs": [
    {
     "name": "stdout",
     "output_type": "stream",
     "text": [
      "['df85c3cd61', 'other', 'Бытовая техника']\n"
     ]
    }
   ],
   "source": [
    "import json\n",
    "purchases = {}\n",
    "with open('visit_log.csv', encoding='utf8') as file, open('purchase_log.txt', encoding='utf8') as f:\n",
    "    with open('funnel.csv', 'w') as line_write:\n",
    "        for line in f:\n",
    "            dict_ = json.loads(line)   #переводим str {\" \": \" \"} в dict\n",
    "            key = dict_['user_id']\n",
    "            val = dict_['category']\n",
    "        purchases.setdefault(key, val)\n",
    "        for i, line in enumerate(file):\n",
    "            new_line = line.strip().split(',')\n",
    "            if new_line[0] in purchases.keys() and new_line[1] is not None:  #seek keys match by 'user_id'\n",
    "                new_line.append(val) and line_write.write(new_line)\n",
    "                print(line_write)"
   ]
  },
  {
   "cell_type": "code",
   "execution_count": null,
   "id": "aa5f6f55",
   "metadata": {},
   "outputs": [],
   "source": [
    "with open('funnel.csv', encoding='cp1251') as f:\n",
    "    for line in f:\n",
    "        print(line)"
   ]
  }
 ],
 "metadata": {
  "kernelspec": {
   "display_name": "Python 3",
   "language": "python",
   "name": "python3"
  },
  "language_info": {
   "codemirror_mode": {
    "name": "ipython",
    "version": 3
   },
   "file_extension": ".py",
   "mimetype": "text/x-python",
   "name": "python",
   "nbconvert_exporter": "python",
   "pygments_lexer": "ipython3",
   "version": "3.8.8"
  }
 },
 "nbformat": 4,
 "nbformat_minor": 5
}
